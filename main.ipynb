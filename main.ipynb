{
 "cells": [
  {
   "cell_type": "code",
   "execution_count": 1,
   "metadata": {},
   "outputs": [],
   "source": [
    "\n",
    "# Import necessary libraries\n",
    "\n",
    "from fastapi import FastAPI, File, UploadFile\n",
    "import uvicorn\n",
    "import numpy as np\n",
    "import cv2\n",
    "from io import BytesIO\n",
    "from fastapi.responses import StreamingResponse\n",
    "import nest_asyncio  "
   ]
  },
  {
   "cell_type": "code",
   "execution_count": 2,
   "metadata": {},
   "outputs": [],
   "source": [
    "\n",
    "# Initialize FastAPI app\n",
    "\n",
    "app = FastAPI()\n",
    "\n"
   ]
  },
  {
   "cell_type": "code",
   "execution_count": 3,
   "metadata": {},
   "outputs": [],
   "source": [
    "# Function to detect apples in an image using color pallets and contours \n",
    "\n",
    "def detect_apples(image: np.ndarray):\n",
    "    # Convert image to HSV color space\n",
    "    hsv = cv2.cvtColor(image, cv2.COLOR_BGR2HSV)\n",
    "    \n",
    "    # Define color range for red apples\n",
    "    lower_red1 = np.array([0, 100, 100])\n",
    "    upper_red1 = np.array([10, 255, 255])\n",
    "    lower_red2 = np.array([160, 100, 100])\n",
    "    upper_red2 = np.array([180, 255, 255])\n",
    "    \n",
    "    mask1 = cv2.inRange(hsv, lower_red1, upper_red1)\n",
    "    mask2 = cv2.inRange(hsv, lower_red2, upper_red2)\n",
    "    mask = mask1 + mask2\n",
    "    \n",
    "    # Apply morphological operations to remove noise\n",
    "    kernel = np.ones((5,5), np.uint8)\n",
    "    mask = cv2.morphologyEx(mask, cv2.MORPH_OPEN, kernel)\n",
    "    mask = cv2.morphologyEx(mask, cv2.MORPH_CLOSE, kernel)\n",
    "    \n",
    "    # Find contours\n",
    "    contours, _ = cv2.findContours(mask, cv2.RETR_EXTERNAL, cv2.CHAIN_APPROX_SIMPLE)\n",
    "    \n",
    "    # Draw bounding boxes around detected apples\n",
    "    for contour in contours:\n",
    "        if cv2.contourArea(contour) > 1000:  # Filter small detections\n",
    "            x, y, w, h = cv2.boundingRect(contour)\n",
    "            cv2.rectangle(image, (x, y), (x + w, y + h), (0, 255, 0), 3)\n",
    "    \n",
    "    return image"
   ]
  },
  {
   "cell_type": "code",
   "execution_count": 4,
   "metadata": {},
   "outputs": [],
   "source": [
    "# API endpoint to upload images and detect if they are apples or not \n",
    "@app.post(\"/is_apple\")\n",
    "async def is_apple(file: UploadFile = File(...)):\n",
    "    try:\n",
    "        # Debug: Print file details\n",
    "        print(f\"Received file: {file.filename}, Content Type: {file.content_type}\")\n",
    "\n",
    "        # Read image file\n",
    "        image_bytes = await file.read()\n",
    "        \n",
    "        # Convert to NumPy array\n",
    "        image_array = np.frombuffer(image_bytes, np.uint8)\n",
    "        \n",
    "        # Decode image\n",
    "        image = cv2.imdecode(image_array, cv2.IMREAD_COLOR)\n",
    "        \n",
    "        if image is None:\n",
    "            print(\"Error: Could not decode image\")\n",
    "            return {\"error\": \"Invalid image file\"}\n",
    "\n",
    "        # Process image\n",
    "        processed_image = detect_apples(image)\n",
    "\n",
    "        # Encode image\n",
    "        _, encoded_image = cv2.imencode(\".jpg\", processed_image)\n",
    "        \n",
    "        return StreamingResponse(BytesIO(encoded_image.tobytes()), media_type=\"image/jpeg\")\n",
    "\n",
    "    except Exception as e:\n",
    "        print(f\"Error: {e}\")\n",
    "        return {\"error\": str(e)}"
   ]
  },
  {
   "cell_type": "code",
   "execution_count": 5,
   "metadata": {},
   "outputs": [
    {
     "name": "stderr",
     "output_type": "stream",
     "text": [
      "INFO:     Started server process [62250]\n",
      "INFO:     Waiting for application startup.\n",
      "INFO:     Application startup complete.\n",
      "INFO:     Uvicorn running on http://0.0.0.0:8000 (Press CTRL+C to quit)\n"
     ]
    },
    {
     "name": "stdout",
     "output_type": "stream",
     "text": [
      "INFO:     127.0.0.1:51340 - \"GET /docs HTTP/1.1\" 200 OK\n",
      "INFO:     127.0.0.1:51340 - \"GET /openapi.json HTTP/1.1\" 200 OK\n",
      "Received file: download.jpeg, Content Type: image/jpeg\n",
      "INFO:     127.0.0.1:51344 - \"POST /is_apple HTTP/1.1\" 200 OK\n",
      "Received file: REDDELAPP6_1400x.webp, Content Type: image/webp\n",
      "INFO:     127.0.0.1:51350 - \"POST /is_apple HTTP/1.1\" 200 OK\n",
      "Received file: apple-2720105_1280.png, Content Type: image/png\n",
      "INFO:     127.0.0.1:51352 - \"POST /is_apple HTTP/1.1\" 200 OK\n",
      "Received file: download.jpeg, Content Type: image/jpeg\n",
      "INFO:     127.0.0.1:51354 - \"POST /is_apple HTTP/1.1\" 200 OK\n"
     ]
    },
    {
     "name": "stderr",
     "output_type": "stream",
     "text": [
      "INFO:     Shutting down\n",
      "INFO:     Waiting for application shutdown.\n",
      "INFO:     Application shutdown complete.\n",
      "INFO:     Finished server process [62250]\n"
     ]
    }
   ],
   "source": [
    "# Runnin the API server\n",
    "nest_asyncio.apply()  # Allows FastAPI to run inside Jupyter\n",
    "\n",
    "uvicorn.run(app, host=\"0.0.0.0\", port=8000)"
   ]
  },
  {
   "cell_type": "markdown",
   "metadata": {},
   "source": [
    "references for the code used: \n",
    "National Film Board of Canada. (2017, April 12). Trick or Treaty? - Alanis Obomsawin (2014) [HD, 52 min] [Video]. YouTube. https://www.youtube.com/watch?v=tc5-wp7D9ko \n",
    "most of image detection video served as references point for my code\n"
   ]
  }
 ],
 "metadata": {
  "kernelspec": {
   "display_name": "base",
   "language": "python",
   "name": "python3"
  },
  "language_info": {
   "codemirror_mode": {
    "name": "ipython",
    "version": 3
   },
   "file_extension": ".py",
   "mimetype": "text/x-python",
   "name": "python",
   "nbconvert_exporter": "python",
   "pygments_lexer": "ipython3",
   "version": "3.12.4"
  }
 },
 "nbformat": 4,
 "nbformat_minor": 2
}
